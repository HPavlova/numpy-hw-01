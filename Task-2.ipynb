{
 "cells": [
  {
   "cell_type": "markdown",
   "id": "64b879f0",
   "metadata": {},
   "source": [
    "#### На складе хранятся мобильные телефоны iPhone 6, iPhone 11, iPhone 12 моделей. Всего 1328 экземпляра. Моделей iPhone 6 на 120 меньше, чем моделей iPhone 11, и на 100 больше, чем моделей iPhone 12. Сколько моделей каждого вида на складе?"
   ]
  },
  {
   "cell_type": "code",
   "execution_count": 1,
   "id": "bfb7cba3",
   "metadata": {},
   "outputs": [],
   "source": [
    "import numpy as np"
   ]
  },
  {
   "cell_type": "code",
   "execution_count": 2,
   "id": "627c5cf6",
   "metadata": {},
   "outputs": [
    {
     "data": {
      "text/plain": [
       "matrix([[436.],\n",
       "        [556.],\n",
       "        [336.]])"
      ]
     },
     "execution_count": 2,
     "metadata": {},
     "output_type": "execute_result"
    }
   ],
   "source": [
    "a = np.matrix(\"1,1,1;-1,1,0;1,0,-1\")\n",
    "b = np.matrix(\"1328;120;100\")\n",
    "a_inv = np.linalg.inv(a)\n",
    "x = a_inv.dot(b)\n",
    "x"
   ]
  },
  {
   "cell_type": "code",
   "execution_count": 3,
   "id": "a238fb09",
   "metadata": {},
   "outputs": [
    {
     "data": {
      "text/plain": [
       "matrix([[436.],\n",
       "        [556.],\n",
       "        [336.]])"
      ]
     },
     "execution_count": 3,
     "metadata": {},
     "output_type": "execute_result"
    }
   ],
   "source": [
    "y = np.linalg.solve(a, b)\n",
    "y"
   ]
  }
 ],
 "metadata": {
  "kernelspec": {
   "display_name": "Python 3.10.4 64-bit",
   "language": "python",
   "name": "python3"
  },
  "language_info": {
   "codemirror_mode": {
    "name": "ipython",
    "version": 3
   },
   "file_extension": ".py",
   "mimetype": "text/x-python",
   "name": "python",
   "nbconvert_exporter": "python",
   "pygments_lexer": "ipython3",
   "version": "3.10.4"
  },
  "vscode": {
   "interpreter": {
    "hash": "aee8b7b246df8f9039afb4144a1f6fd8d2ca17a180786b69acc140d282b71a49"
   }
  }
 },
 "nbformat": 4,
 "nbformat_minor": 5
}

{
 "cells": [
  {
   "cell_type": "markdown",
   "id": "acfa7dc9",
   "metadata": {},
   "source": [
    "#### Составьте функцию get_polynom, которая по набору точек вида\n",
    "(x_1,y_1),(x_2,y_2), ..., (x_{n+1}, y_{n+1}) \n",
    "будет находить коэффициенты многочлена c_i.\n",
    "\n",
    "Таким образом функция принимает список кортежей с координатами и возвращает набор коэффициентов c_0,c_1,...,c_n."
   ]
  },
  {
   "cell_type": "code",
   "execution_count": 45,
   "id": "887c0492",
   "metadata": {},
   "outputs": [],
   "source": [
    "import numpy as np\n",
    "\n",
    "\n",
    "def get_polynom(coords):\n",
    "    A = np.matrix([[coord[0]**i for i in reversed(range(len(coords)))] for coord in coords])\n",
    "    b = np.matrix([coord[1] for coord in coords])\n",
    "  \n",
    "    return np.linalg.solve(A, b.T)"
   ]
  },
  {
   "cell_type": "code",
   "execution_count": 46,
   "id": "b62605c2",
   "metadata": {
    "scrolled": true
   },
   "outputs": [
    {
     "data": {
      "text/plain": [
       "matrix([[4.],\n",
       "        [5.],\n",
       "        [3.]])"
      ]
     },
     "execution_count": 46,
     "metadata": {},
     "output_type": "execute_result"
    }
   ],
   "source": [
    "get_polynom([(1,12),(3,54),(-1,2)])"
   ]
  }
 ],
 "metadata": {
  "kernelspec": {
   "display_name": "Python 3.10.4 64-bit",
   "language": "python",
   "name": "python3"
  },
  "language_info": {
   "codemirror_mode": {
    "name": "ipython",
    "version": 3
   },
   "file_extension": ".py",
   "mimetype": "text/x-python",
   "name": "python",
   "nbconvert_exporter": "python",
   "pygments_lexer": "ipython3",
   "version": "3.10.4"
  },
  "vscode": {
   "interpreter": {
    "hash": "aee8b7b246df8f9039afb4144a1f6fd8d2ca17a180786b69acc140d282b71a49"
   }
  }
 },
 "nbformat": 4,
 "nbformat_minor": 5
}

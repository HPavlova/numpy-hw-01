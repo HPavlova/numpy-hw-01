{
 "cells": [
  {
   "cell_type": "markdown",
   "id": "94c73e35",
   "metadata": {},
   "source": [
    "#### Составьте каноническое уравнение эллипсоида, проходящего через три точки A,B,C\n",
    "\n",
    "Каноническое уравнение эллипсоида в прямоугольной декартовой системе координат имеет вид:\n",
    "{x^2}/{a^2}+{y^2}/{b^2}+{z^2}/{c^2}=1 \n",
    "\n",
    "Задача состоит в определении параметров a^2, b^2 и c^2."
   ]
  },
  {
   "cell_type": "code",
   "execution_count": 1,
   "id": "ccac547d",
   "metadata": {},
   "outputs": [],
   "source": [
    "import numpy as np"
   ]
  },
  {
   "cell_type": "code",
   "execution_count": 5,
   "id": "7914a902",
   "metadata": {},
   "outputs": [
    {
     "data": {
      "text/plain": [
       "matrix([[0.08333333],\n",
       "        [2.        ],\n",
       "        [0.25      ]])"
      ]
     },
     "execution_count": 5,
     "metadata": {},
     "output_type": "execute_result"
    }
   ],
   "source": [
    "a = np.matrix([[3,0,3],[6,1/4,0],[1,1/3,1]])\n",
    "b = np.matrix(\"1;1;1\")\n",
    "a_inv = np.linalg.inv(a)\n",
    "x = a_inv.dot(b)\n",
    "x"
   ]
  },
  {
   "cell_type": "code",
   "execution_count": 8,
   "id": "7f8d9b82",
   "metadata": {},
   "outputs": [
    {
     "data": {
      "text/plain": [
       "matrix([[12. ],\n",
       "        [ 0.5],\n",
       "        [ 4. ]])"
      ]
     },
     "execution_count": 8,
     "metadata": {},
     "output_type": "execute_result"
    }
   ],
   "source": [
    "result=1/x\n",
    "result"
   ]
  },
  {
   "cell_type": "code",
   "execution_count": 10,
   "id": "c1827014",
   "metadata": {},
   "outputs": [
    {
     "data": {
      "text/plain": [
       "matrix([[12. ],\n",
       "        [ 0.5],\n",
       "        [ 4. ]])"
      ]
     },
     "execution_count": 10,
     "metadata": {},
     "output_type": "execute_result"
    }
   ],
   "source": [
    "y = np.linalg.solve(a, b)\n",
    "resultY=1/y\n",
    "resultY"
   ]
  }
 ],
 "metadata": {
  "kernelspec": {
   "display_name": "Python 3.10.4 64-bit",
   "language": "python",
   "name": "python3"
  },
  "language_info": {
   "codemirror_mode": {
    "name": "ipython",
    "version": 3
   },
   "file_extension": ".py",
   "mimetype": "text/x-python",
   "name": "python",
   "nbconvert_exporter": "python",
   "pygments_lexer": "ipython3",
   "version": "3.10.4"
  },
  "vscode": {
   "interpreter": {
    "hash": "aee8b7b246df8f9039afb4144a1f6fd8d2ca17a180786b69acc140d282b71a49"
   }
  }
 },
 "nbformat": 4,
 "nbformat_minor": 5
}
